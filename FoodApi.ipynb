{
 "cells": [
  {
   "cell_type": "markdown",
   "metadata": {},
   "source": [
    "### 음식 추천 API 요청"
   ]
  },
  {
   "cell_type": "code",
   "execution_count": 7,
   "metadata": {},
   "outputs": [
    {
     "data": {
      "text/plain": [
       "{'result': \"[['두루치기', '돼지고기', 3.9818, 0.503, 2.566, 3.0, 0.592, 'https://search.pstatic.net/common/?src=http%3A%2F%2Fblogfiles.naver.net%2FMjAyMzEwMDlfMjc2%2FMDAxNjk2ODQ3NDY1NDUx.QFqr7-g-ggVLFcyMdwyh4MC_WZAo1pSbMyAy1dOMA6Mg.knktP9wh9w3m4AnDDSGAD173Doc6rSAPumYv8t2-vaog.JPEG.ttot177900%2FDSC00952.JPG&type=a340'], ['돈까스', '돼지고기', 3.413, 1.1066, 2.9326, 1.0, 0.5374], ['닭똥집볶음', '닭부산물', 3.9818, 1.006, 2.566, 1.0, 0.5228], ['갈비', '돼지고기', 1.8658, 1.3581, 2.6979, 1.0, 0.5074], ['불고기', '돼지고기', 3.9818, 0.6036, 3.2991, 3.0, 0.4683]]\"}"
      ]
     },
     "execution_count": 7,
     "metadata": {},
     "output_type": "execute_result"
    }
   ],
   "source": [
    "import requests\n",
    "import json\n",
    "\n",
    "url = 'http://203.234.62.169:5000/api/food?p1=r&p2=r&p3=r&p4=3.9818&p5=0.503&p6=2.566&p7=3.0'\n",
    "\n",
    "response = requests.get(url)\n",
    "\n",
    "response.json()\n"
   ]
  },
  {
   "cell_type": "markdown",
   "metadata": {},
   "source": [
    "### 이미지 사진 가져오기"
   ]
  },
  {
   "cell_type": "code",
   "execution_count": 10,
   "metadata": {},
   "outputs": [],
   "source": [
    "from selenium import webdriver\n",
    "from selenium.webdriver.chrome.options import Options\n",
    "from selenium.webdriver.common.by import By\n",
    "import random\n",
    "\n",
    "chrome_options = Options()\n",
    "chrome_options.add_argument('headless')\n",
    "driver = webdriver.Chrome(options=chrome_options)"
   ]
  },
  {
   "cell_type": "code",
   "execution_count": 11,
   "metadata": {},
   "outputs": [],
   "source": [
    "import time\n",
    "\n",
    "def findURL(query):\n",
    "    driver.get(f'https://search.naver.com/search.naver?&where=image&query={query}')\n",
    "\n",
    "    for i in range(5):\n",
    "        try:\n",
    "            first_image_element = driver.find_element(By.XPATH,f'//*[@id=\"main_pack\"]/section[2]/div[1]/div/div/div[1]/div[{random.randint(1,10)}]/div/div/a/img').get_attribute('src')\n",
    "            return first_image_element\n",
    "        except:\n",
    "            time.sleep(0.02)\n",
    "    return \"@drawable/food_img\""
   ]
  },
  {
   "cell_type": "code",
   "execution_count": 12,
   "metadata": {},
   "outputs": [
    {
     "data": {
      "text/plain": [
       "'https://search.pstatic.net/common/?src=http%3A%2F%2Fblogfiles.naver.net%2FMjAyMzExMDhfMTYx%2FMDAxNjk5NDMxNDIzODY2.sRJeho7dgmSfBzmnx3gz4NSyNKShFFobDL-GcT840tsg.1LzSPjYmsgz8n2lLvnIj4YBCxAPwYk8cTCrSRnVxAuMg.JPEG.spdlqj4762%2FIMG_0724.JPG&type=a340'"
      ]
     },
     "execution_count": 12,
     "metadata": {},
     "output_type": "execute_result"
    }
   ],
   "source": [
    "findURL('초밥')"
   ]
  },
  {
   "cell_type": "code",
   "execution_count": 7,
   "metadata": {},
   "outputs": [],
   "source": [
    "import pymysql\n",
    "import pandas as pd\n",
    "\n",
    "def OpenDB(sql): #sql 데이터 반환 함수\n",
    "    db = pymysql.connect(host='203.234.62.169', user='Java', password='1234', \n",
    "                                              db='dbproject', charset='utf8')\n",
    "    cursor = db.cursor() #DB 접근 후 커서 지정\n",
    "    cursor.execute(sql) #sql 실행\n",
    "    result = cursor.fetchall() #결과 저장\n",
    "\n",
    "    db.commit()\n",
    "    db.close() #commit 후 db 닫기\n",
    "    \n",
    "    return result #결과 데이터 반환"
   ]
  }
 ],
 "metadata": {
  "kernelspec": {
   "display_name": "Flask",
   "language": "python",
   "name": "python3"
  },
  "language_info": {
   "codemirror_mode": {
    "name": "ipython",
    "version": 3
   },
   "file_extension": ".py",
   "mimetype": "text/x-python",
   "name": "python",
   "nbconvert_exporter": "python",
   "pygments_lexer": "ipython3",
   "version": "3.9.12"
  }
 },
 "nbformat": 4,
 "nbformat_minor": 2
}
